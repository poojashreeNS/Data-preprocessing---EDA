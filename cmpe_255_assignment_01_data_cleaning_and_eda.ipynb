{
  "nbformat": 4,
  "nbformat_minor": 5,
  "metadata": {
    "kernelspec": {
      "display_name": "Python 3",
      "language": "python",
      "name": "python3"
    },
    "language_info": {
      "codemirror_mode": {
        "name": "ipython",
        "version": 3
      },
      "file_extension": ".py",
      "mimetype": "text/x-python",
      "name": "python",
      "nbconvert_exporter": "python",
      "pygments_lexer": "ipython3",
      "version": "3.7.10"
    },
    "papermill": {
      "default_parameters": {},
      "duration": 19.575127,
      "end_time": "2021-09-19T20:11:44.496895",
      "environment_variables": {},
      "exception": null,
      "input_path": "__notebook__.ipynb",
      "output_path": "__notebook__.ipynb",
      "parameters": {},
      "start_time": "2021-09-19T20:11:24.921768",
      "version": "2.3.3"
    },
    "colab": {
      "name": "cmpe-255-assignment-01-data-cleaning-and-eda.ipynb",
      "provenance": [],
      "collapsed_sections": [],
      "toc_visible": true
    }
  },
  "cells": [
    {
      "cell_type": "code",
      "metadata": {
        "_cell_guid": "b1076dfc-b9ad-4769-8c92-a6c4dae69d19",
        "_uuid": "8f2839f25d086af736a60e9eeb907d3b93b6e0e5",
        "execution": {
          "iopub.execute_input": "2021-09-19T20:11:33.251973Z",
          "iopub.status.busy": "2021-09-19T20:11:33.251087Z",
          "iopub.status.idle": "2021-09-19T20:11:34.862548Z",
          "shell.execute_reply": "2021-09-19T20:11:34.861840Z",
          "shell.execute_reply.started": "2021-09-19T20:09:32.761175Z"
        },
        "papermill": {
          "duration": 1.652218,
          "end_time": "2021-09-19T20:11:34.862725",
          "exception": false,
          "start_time": "2021-09-19T20:11:33.210507",
          "status": "completed"
        },
        "tags": [],
        "colab": {
          "resources": {
            "http://localhost:8080/nbextensions/google.colab/files.js": {
              "data": "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",
              "ok": true,
              "headers": [
                [
                  "content-type",
                  "application/javascript"
                ]
              ],
              "status": 200,
              "status_text": ""
            }
          },
          "base_uri": "https://localhost:8080/",
          "height": 73
        },
        "id": "32750c8b",
        "outputId": "f449410a-c891-475a-8ed0-2d8cecda1718"
      },
      "source": [
        "import numpy as np # linear algebra\n",
        "import pandas as pd # data processing, CSV file I/O (e.g. pd.read_csv)\n",
        "\n",
        "import matplotlib.pyplot as px #data Visualisation\n",
        "\n",
        "from google.colab import files\n",
        "uploaded = files.upload()\n",
        "\n",
        "import io"
      ],
      "id": "32750c8b",
      "execution_count": 24,
      "outputs": [
        {
          "output_type": "display_data",
          "data": {
            "text/html": [
              "\n",
              "     <input type=\"file\" id=\"files-6ec01ce4-6653-44b9-9679-fc5fb06766e7\" name=\"files[]\" multiple disabled\n",
              "        style=\"border:none\" />\n",
              "     <output id=\"result-6ec01ce4-6653-44b9-9679-fc5fb06766e7\">\n",
              "      Upload widget is only available when the cell has been executed in the\n",
              "      current browser session. Please rerun this cell to enable.\n",
              "      </output>\n",
              "      <script src=\"/nbextensions/google.colab/files.js\"></script> "
            ],
            "text/plain": [
              "<IPython.core.display.HTML object>"
            ]
          },
          "metadata": {}
        },
        {
          "output_type": "stream",
          "name": "stdout",
          "text": [
            "Saving movies.csv to movies (9).csv\n"
          ]
        }
      ]
    },
    {
      "cell_type": "markdown",
      "metadata": {
        "papermill": {
          "duration": 0.025578,
          "end_time": "2021-09-19T20:11:34.917035",
          "exception": false,
          "start_time": "2021-09-19T20:11:34.891457",
          "status": "completed"
        },
        "tags": [],
        "id": "fa669d2d"
      },
      "source": [
        "# **DATA UNDERSTANDING**"
      ],
      "id": "fa669d2d"
    },
    {
      "cell_type": "markdown",
      "metadata": {
        "papermill": {
          "duration": 0.02543,
          "end_time": "2021-09-19T20:11:34.968908",
          "exception": false,
          "start_time": "2021-09-19T20:11:34.943478",
          "status": "completed"
        },
        "tags": [],
        "id": "4e5f78f5"
      },
      "source": [
        "**Read the data from CSV and print the sample data using head()**"
      ],
      "id": "4e5f78f5"
    },
    {
      "cell_type": "code",
      "metadata": {
        "execution": {
          "iopub.execute_input": "2021-09-19T20:11:35.024934Z",
          "iopub.status.busy": "2021-09-19T20:11:35.024196Z",
          "iopub.status.idle": "2021-09-19T20:11:35.175045Z",
          "shell.execute_reply": "2021-09-19T20:11:35.174475Z",
          "shell.execute_reply.started": "2021-09-19T20:08:07.160185Z"
        },
        "papermill": {
          "duration": 0.179961,
          "end_time": "2021-09-19T20:11:35.175203",
          "exception": false,
          "start_time": "2021-09-19T20:11:34.995242",
          "status": "completed"
        },
        "tags": [],
        "colab": {
          "base_uri": "https://localhost:8080/",
          "height": 287
        },
        "id": "10e554ef",
        "outputId": "6d051136-50c2-4702-bcf3-b0e300d5f48f"
      },
      "source": [
        "movies_data = pd.read_csv(io.BytesIO(uploaded['movies.csv']))\n",
        "movies_data.head()"
      ],
      "id": "10e554ef",
      "execution_count": 29,
      "outputs": [
        {
          "output_type": "execute_result",
          "data": {
            "text/html": [
              "<div>\n",
              "<style scoped>\n",
              "    .dataframe tbody tr th:only-of-type {\n",
              "        vertical-align: middle;\n",
              "    }\n",
              "\n",
              "    .dataframe tbody tr th {\n",
              "        vertical-align: top;\n",
              "    }\n",
              "\n",
              "    .dataframe thead th {\n",
              "        text-align: right;\n",
              "    }\n",
              "</style>\n",
              "<table border=\"1\" class=\"dataframe\">\n",
              "  <thead>\n",
              "    <tr style=\"text-align: right;\">\n",
              "      <th></th>\n",
              "      <th>MOVIES</th>\n",
              "      <th>YEAR</th>\n",
              "      <th>GENRE</th>\n",
              "      <th>RATING</th>\n",
              "      <th>ONE-LINE</th>\n",
              "      <th>STARS</th>\n",
              "      <th>VOTES</th>\n",
              "      <th>RunTime</th>\n",
              "      <th>Gross</th>\n",
              "    </tr>\n",
              "  </thead>\n",
              "  <tbody>\n",
              "    <tr>\n",
              "      <th>0</th>\n",
              "      <td>Blood Red Sky</td>\n",
              "      <td>(2021)</td>\n",
              "      <td>\\nAction, Horror, Thriller</td>\n",
              "      <td>6.1</td>\n",
              "      <td>\\nA woman with a mysterious illness is forced ...</td>\n",
              "      <td>\\n    Director:\\nPeter Thorwarth\\n| \\n    Star...</td>\n",
              "      <td>21,062</td>\n",
              "      <td>121.0</td>\n",
              "      <td>NaN</td>\n",
              "    </tr>\n",
              "    <tr>\n",
              "      <th>1</th>\n",
              "      <td>Masters of the Universe: Revelation</td>\n",
              "      <td>(2021– )</td>\n",
              "      <td>\\nAnimation, Action, Adventure</td>\n",
              "      <td>5.0</td>\n",
              "      <td>\\nThe war for Eternia begins again in what may...</td>\n",
              "      <td>\\n            \\n    Stars:\\nChris Wood, \\nSara...</td>\n",
              "      <td>17,870</td>\n",
              "      <td>25.0</td>\n",
              "      <td>NaN</td>\n",
              "    </tr>\n",
              "    <tr>\n",
              "      <th>2</th>\n",
              "      <td>The Walking Dead</td>\n",
              "      <td>(2010–2022)</td>\n",
              "      <td>\\nDrama, Horror, Thriller</td>\n",
              "      <td>8.2</td>\n",
              "      <td>\\nSheriff Deputy Rick Grimes wakes up from a c...</td>\n",
              "      <td>\\n            \\n    Stars:\\nAndrew Lincoln, \\n...</td>\n",
              "      <td>885,805</td>\n",
              "      <td>44.0</td>\n",
              "      <td>NaN</td>\n",
              "    </tr>\n",
              "    <tr>\n",
              "      <th>3</th>\n",
              "      <td>Rick and Morty</td>\n",
              "      <td>(2013– )</td>\n",
              "      <td>\\nAnimation, Adventure, Comedy</td>\n",
              "      <td>9.2</td>\n",
              "      <td>\\nAn animated series that follows the exploits...</td>\n",
              "      <td>\\n            \\n    Stars:\\nJustin Roiland, \\n...</td>\n",
              "      <td>414,849</td>\n",
              "      <td>23.0</td>\n",
              "      <td>NaN</td>\n",
              "    </tr>\n",
              "    <tr>\n",
              "      <th>4</th>\n",
              "      <td>Army of Thieves</td>\n",
              "      <td>(2021)</td>\n",
              "      <td>\\nAction, Crime, Horror</td>\n",
              "      <td>NaN</td>\n",
              "      <td>\\nA prequel, set before the events of Army of ...</td>\n",
              "      <td>\\n    Director:\\nMatthias Schweighöfer\\n| \\n  ...</td>\n",
              "      <td>NaN</td>\n",
              "      <td>NaN</td>\n",
              "      <td>NaN</td>\n",
              "    </tr>\n",
              "  </tbody>\n",
              "</table>\n",
              "</div>"
            ],
            "text/plain": [
              "                                MOVIES         YEAR  ... RunTime  Gross\n",
              "0                        Blood Red Sky       (2021)  ...   121.0    NaN\n",
              "1  Masters of the Universe: Revelation     (2021– )  ...    25.0    NaN\n",
              "2                     The Walking Dead  (2010–2022)  ...    44.0    NaN\n",
              "3                       Rick and Morty     (2013– )  ...    23.0    NaN\n",
              "4                      Army of Thieves       (2021)  ...     NaN    NaN\n",
              "\n",
              "[5 rows x 9 columns]"
            ]
          },
          "metadata": {},
          "execution_count": 29
        }
      ]
    },
    {
      "cell_type": "markdown",
      "metadata": {
        "papermill": {
          "duration": 0.026804,
          "end_time": "2021-09-19T20:11:35.229921",
          "exception": false,
          "start_time": "2021-09-19T20:11:35.203117",
          "status": "completed"
        },
        "tags": [],
        "id": "44e3c091"
      },
      "source": [
        "**Load the dataset to the dataFrame and get info about data such as count and data type used. Here the count gives the idea about missing values**"
      ],
      "id": "44e3c091"
    },
    {
      "cell_type": "code",
      "metadata": {
        "execution": {
          "iopub.execute_input": "2021-09-19T20:11:35.300044Z",
          "iopub.status.busy": "2021-09-19T20:11:35.298990Z",
          "iopub.status.idle": "2021-09-19T20:11:35.318609Z",
          "shell.execute_reply": "2021-09-19T20:11:35.319126Z",
          "shell.execute_reply.started": "2021-09-19T20:08:07.250147Z"
        },
        "papermill": {
          "duration": 0.062652,
          "end_time": "2021-09-19T20:11:35.319295",
          "exception": false,
          "start_time": "2021-09-19T20:11:35.256643",
          "status": "completed"
        },
        "scrolled": true,
        "tags": [],
        "colab": {
          "base_uri": "https://localhost:8080/"
        },
        "id": "8a02259b",
        "outputId": "43e13d38-3e4f-401a-e826-231baccd51a8"
      },
      "source": [
        "df = pd.DataFrame(movies_data)\n",
        "df.info()"
      ],
      "id": "8a02259b",
      "execution_count": 30,
      "outputs": [
        {
          "output_type": "stream",
          "name": "stdout",
          "text": [
            "<class 'pandas.core.frame.DataFrame'>\n",
            "RangeIndex: 9999 entries, 0 to 9998\n",
            "Data columns (total 9 columns):\n",
            " #   Column    Non-Null Count  Dtype  \n",
            "---  ------    --------------  -----  \n",
            " 0   MOVIES    9999 non-null   object \n",
            " 1   YEAR      9355 non-null   object \n",
            " 2   GENRE     9919 non-null   object \n",
            " 3   RATING    8179 non-null   float64\n",
            " 4   ONE-LINE  9999 non-null   object \n",
            " 5   STARS     9999 non-null   object \n",
            " 6   VOTES     8179 non-null   object \n",
            " 7   RunTime   7041 non-null   float64\n",
            " 8   Gross     460 non-null    object \n",
            "dtypes: float64(2), object(7)\n",
            "memory usage: 703.2+ KB\n"
          ]
        }
      ]
    },
    {
      "cell_type": "code",
      "metadata": {
        "execution": {
          "iopub.execute_input": "2021-09-19T20:11:35.377282Z",
          "iopub.status.busy": "2021-09-19T20:11:35.376603Z",
          "iopub.status.idle": "2021-09-19T20:11:35.381475Z",
          "shell.execute_reply": "2021-09-19T20:11:35.382010Z",
          "shell.execute_reply.started": "2021-09-19T20:08:07.278580Z"
        },
        "papermill": {
          "duration": 0.035996,
          "end_time": "2021-09-19T20:11:35.382192",
          "exception": false,
          "start_time": "2021-09-19T20:11:35.346196",
          "status": "completed"
        },
        "tags": [],
        "colab": {
          "base_uri": "https://localhost:8080/"
        },
        "id": "66fc633e",
        "outputId": "8ef6a007-4c41-4aa2-8f20-ef2acd734256"
      },
      "source": [
        "df.shape"
      ],
      "id": "66fc633e",
      "execution_count": 31,
      "outputs": [
        {
          "output_type": "execute_result",
          "data": {
            "text/plain": [
              "(9999, 9)"
            ]
          },
          "metadata": {},
          "execution_count": 31
        }
      ]
    },
    {
      "cell_type": "markdown",
      "metadata": {
        "papermill": {
          "duration": 0.027075,
          "end_time": "2021-09-19T20:11:35.436788",
          "exception": false,
          "start_time": "2021-09-19T20:11:35.409713",
          "status": "completed"
        },
        "tags": [],
        "id": "ea874968"
      },
      "source": [
        "**Get the details about missing data using isna() {isna() provides boolean values for each cell where data miss is false} isna().sum() gives the false total**"
      ],
      "id": "ea874968"
    },
    {
      "cell_type": "code",
      "metadata": {
        "execution": {
          "iopub.execute_input": "2021-09-19T20:11:35.504275Z",
          "iopub.status.busy": "2021-09-19T20:11:35.503251Z",
          "iopub.status.idle": "2021-09-19T20:11:35.511020Z",
          "shell.execute_reply": "2021-09-19T20:11:35.510271Z",
          "shell.execute_reply.started": "2021-09-19T20:08:07.295406Z"
        },
        "papermill": {
          "duration": 0.047106,
          "end_time": "2021-09-19T20:11:35.511164",
          "exception": false,
          "start_time": "2021-09-19T20:11:35.464058",
          "status": "completed"
        },
        "tags": [],
        "colab": {
          "base_uri": "https://localhost:8080/"
        },
        "id": "da23c4b6",
        "outputId": "e18e9e98-60cf-4374-90a6-5c17f9055c66"
      },
      "source": [
        "df.isna().sum()"
      ],
      "id": "da23c4b6",
      "execution_count": 32,
      "outputs": [
        {
          "output_type": "execute_result",
          "data": {
            "text/plain": [
              "MOVIES         0\n",
              "YEAR         644\n",
              "GENRE         80\n",
              "RATING      1820\n",
              "ONE-LINE       0\n",
              "STARS          0\n",
              "VOTES       1820\n",
              "RunTime     2958\n",
              "Gross       9539\n",
              "dtype: int64"
            ]
          },
          "metadata": {},
          "execution_count": 32
        }
      ]
    },
    {
      "cell_type": "markdown",
      "metadata": {
        "papermill": {
          "duration": 0.027382,
          "end_time": "2021-09-19T20:11:35.566513",
          "exception": false,
          "start_time": "2021-09-19T20:11:35.539131",
          "status": "completed"
        },
        "tags": [],
        "id": "87cc46e6"
      },
      "source": [
        "# DATA CLEANING"
      ],
      "id": "87cc46e6"
    },
    {
      "cell_type": "markdown",
      "metadata": {
        "papermill": {
          "duration": 0.027418,
          "end_time": "2021-09-19T20:11:35.621663",
          "exception": false,
          "start_time": "2021-09-19T20:11:35.594245",
          "status": "completed"
        },
        "tags": [],
        "id": "206f105a"
      },
      "source": [
        "**Remove duplicate entries in the dataset**"
      ],
      "id": "206f105a"
    },
    {
      "cell_type": "code",
      "metadata": {
        "execution": {
          "iopub.execute_input": "2021-09-19T20:11:35.683669Z",
          "iopub.status.busy": "2021-09-19T20:11:35.682992Z",
          "iopub.status.idle": "2021-09-19T20:11:35.691004Z",
          "shell.execute_reply": "2021-09-19T20:11:35.690444Z",
          "shell.execute_reply.started": "2021-09-19T20:08:07.318605Z"
        },
        "papermill": {
          "duration": 0.041759,
          "end_time": "2021-09-19T20:11:35.691145",
          "exception": false,
          "start_time": "2021-09-19T20:11:35.649386",
          "status": "completed"
        },
        "tags": [],
        "colab": {
          "base_uri": "https://localhost:8080/"
        },
        "id": "65133fb7",
        "outputId": "6a8d6143-795a-40f5-80b3-9ecff59bacc4"
      },
      "source": [
        "df.drop_duplicates(subset =\"MOVIES\",keep = False, inplace = True)\n",
        "df.shape"
      ],
      "id": "65133fb7",
      "execution_count": 33,
      "outputs": [
        {
          "output_type": "execute_result",
          "data": {
            "text/plain": [
              "(6398, 9)"
            ]
          },
          "metadata": {},
          "execution_count": 33
        }
      ]
    },
    {
      "cell_type": "markdown",
      "metadata": {
        "papermill": {
          "duration": 0.0279,
          "end_time": "2021-09-19T20:11:35.747911",
          "exception": false,
          "start_time": "2021-09-19T20:11:35.720011",
          "status": "completed"
        },
        "tags": [],
        "id": "32b845fd"
      },
      "source": [
        "**Remove all the formattings from the data**"
      ],
      "id": "32b845fd"
    },
    {
      "cell_type": "code",
      "metadata": {
        "execution": {
          "iopub.execute_input": "2021-09-19T20:11:35.807474Z",
          "iopub.status.busy": "2021-09-19T20:11:35.806791Z",
          "iopub.status.idle": "2021-09-19T20:11:35.857052Z",
          "shell.execute_reply": "2021-09-19T20:11:35.857625Z",
          "shell.execute_reply.started": "2021-09-19T20:08:07.337700Z"
        },
        "papermill": {
          "duration": 0.081804,
          "end_time": "2021-09-19T20:11:35.857794",
          "exception": false,
          "start_time": "2021-09-19T20:11:35.775990",
          "status": "completed"
        },
        "tags": [],
        "colab": {
          "base_uri": "https://localhost:8080/",
          "height": 287
        },
        "id": "a6d525af",
        "outputId": "4820db26-9c32-4bb1-c7eb-0821800925e2"
      },
      "source": [
        "for col in ['GENRE','ONE-LINE','STARS']:\n",
        "    df[col] = df[col].str.replace(\"\\n\",\"\").str.strip()\n",
        "\n",
        "df.head()"
      ],
      "id": "a6d525af",
      "execution_count": 34,
      "outputs": [
        {
          "output_type": "execute_result",
          "data": {
            "text/html": [
              "<div>\n",
              "<style scoped>\n",
              "    .dataframe tbody tr th:only-of-type {\n",
              "        vertical-align: middle;\n",
              "    }\n",
              "\n",
              "    .dataframe tbody tr th {\n",
              "        vertical-align: top;\n",
              "    }\n",
              "\n",
              "    .dataframe thead th {\n",
              "        text-align: right;\n",
              "    }\n",
              "</style>\n",
              "<table border=\"1\" class=\"dataframe\">\n",
              "  <thead>\n",
              "    <tr style=\"text-align: right;\">\n",
              "      <th></th>\n",
              "      <th>MOVIES</th>\n",
              "      <th>YEAR</th>\n",
              "      <th>GENRE</th>\n",
              "      <th>RATING</th>\n",
              "      <th>ONE-LINE</th>\n",
              "      <th>STARS</th>\n",
              "      <th>VOTES</th>\n",
              "      <th>RunTime</th>\n",
              "      <th>Gross</th>\n",
              "    </tr>\n",
              "  </thead>\n",
              "  <tbody>\n",
              "    <tr>\n",
              "      <th>0</th>\n",
              "      <td>Blood Red Sky</td>\n",
              "      <td>(2021)</td>\n",
              "      <td>Action, Horror, Thriller</td>\n",
              "      <td>6.1</td>\n",
              "      <td>A woman with a mysterious illness is forced in...</td>\n",
              "      <td>Director:Peter Thorwarth|     Stars:Peri Baume...</td>\n",
              "      <td>21,062</td>\n",
              "      <td>121.0</td>\n",
              "      <td>NaN</td>\n",
              "    </tr>\n",
              "    <tr>\n",
              "      <th>1</th>\n",
              "      <td>Masters of the Universe: Revelation</td>\n",
              "      <td>(2021– )</td>\n",
              "      <td>Animation, Action, Adventure</td>\n",
              "      <td>5.0</td>\n",
              "      <td>The war for Eternia begins again in what may b...</td>\n",
              "      <td>Stars:Chris Wood, Sarah Michelle Gellar, Lena ...</td>\n",
              "      <td>17,870</td>\n",
              "      <td>25.0</td>\n",
              "      <td>NaN</td>\n",
              "    </tr>\n",
              "    <tr>\n",
              "      <th>2</th>\n",
              "      <td>The Walking Dead</td>\n",
              "      <td>(2010–2022)</td>\n",
              "      <td>Drama, Horror, Thriller</td>\n",
              "      <td>8.2</td>\n",
              "      <td>Sheriff Deputy Rick Grimes wakes up from a com...</td>\n",
              "      <td>Stars:Andrew Lincoln, Norman Reedus, Melissa M...</td>\n",
              "      <td>885,805</td>\n",
              "      <td>44.0</td>\n",
              "      <td>NaN</td>\n",
              "    </tr>\n",
              "    <tr>\n",
              "      <th>3</th>\n",
              "      <td>Rick and Morty</td>\n",
              "      <td>(2013– )</td>\n",
              "      <td>Animation, Adventure, Comedy</td>\n",
              "      <td>9.2</td>\n",
              "      <td>An animated series that follows the exploits o...</td>\n",
              "      <td>Stars:Justin Roiland, Chris Parnell, Spencer G...</td>\n",
              "      <td>414,849</td>\n",
              "      <td>23.0</td>\n",
              "      <td>NaN</td>\n",
              "    </tr>\n",
              "    <tr>\n",
              "      <th>4</th>\n",
              "      <td>Army of Thieves</td>\n",
              "      <td>(2021)</td>\n",
              "      <td>Action, Crime, Horror</td>\n",
              "      <td>NaN</td>\n",
              "      <td>A prequel, set before the events of Army of th...</td>\n",
              "      <td>Director:Matthias Schweighöfer|     Stars:Matt...</td>\n",
              "      <td>NaN</td>\n",
              "      <td>NaN</td>\n",
              "      <td>NaN</td>\n",
              "    </tr>\n",
              "  </tbody>\n",
              "</table>\n",
              "</div>"
            ],
            "text/plain": [
              "                                MOVIES         YEAR  ... RunTime  Gross\n",
              "0                        Blood Red Sky       (2021)  ...   121.0    NaN\n",
              "1  Masters of the Universe: Revelation     (2021– )  ...    25.0    NaN\n",
              "2                     The Walking Dead  (2010–2022)  ...    44.0    NaN\n",
              "3                       Rick and Morty     (2013– )  ...    23.0    NaN\n",
              "4                      Army of Thieves       (2021)  ...     NaN    NaN\n",
              "\n",
              "[5 rows x 9 columns]"
            ]
          },
          "metadata": {},
          "execution_count": 34
        }
      ]
    },
    {
      "cell_type": "markdown",
      "metadata": {
        "papermill": {
          "duration": 0.028373,
          "end_time": "2021-09-19T20:11:35.915948",
          "exception": false,
          "start_time": "2021-09-19T20:11:35.887575",
          "status": "completed"
        },
        "tags": [],
        "id": "d71250a0"
      },
      "source": [
        "**Format year so that we can differencate between movie and series**"
      ],
      "id": "d71250a0"
    },
    {
      "cell_type": "code",
      "metadata": {
        "execution": {
          "iopub.execute_input": "2021-09-19T20:11:35.993708Z",
          "iopub.status.busy": "2021-09-19T20:11:35.981829Z",
          "iopub.status.idle": "2021-09-19T20:11:36.023819Z",
          "shell.execute_reply": "2021-09-19T20:11:36.024306Z",
          "shell.execute_reply.started": "2021-09-19T20:08:07.397063Z"
        },
        "papermill": {
          "duration": 0.079778,
          "end_time": "2021-09-19T20:11:36.024506",
          "exception": false,
          "start_time": "2021-09-19T20:11:35.944728",
          "status": "completed"
        },
        "tags": [],
        "id": "ed3af7ed"
      },
      "source": [
        "df['Year'] = df['YEAR'].str.extract(r'([0-9]{4}–.*|[0-9]{4})')\n",
        "df['Year'] = df['Year'].str.strip().replace(\")\",\"\")\n",
        "\n",
        "def extract_year(year):\n",
        "    if year[-3:] == '– )':\n",
        "        return year.replace('– )',\"–\")\n",
        "    else:\n",
        "        return year.replace(')',\"\")\n",
        "\n",
        "df['Year'] = df['Year'].fillna('Unknown')\n",
        "df['Year'] = df['Year'].apply(lambda y: extract_year(y))\n",
        "    \n",
        "year_count = df[df['Year'] != 'Unknown']['Year'].value_counts().reset_index().rename(columns = {'Year':'Count','index':'Year'})\n",
        "year_count.head()\n",
        "df = df.drop(['YEAR'], axis = 1)"
      ],
      "id": "ed3af7ed",
      "execution_count": 35,
      "outputs": []
    },
    {
      "cell_type": "markdown",
      "metadata": {
        "papermill": {
          "duration": 0.029211,
          "end_time": "2021-09-19T20:11:36.082515",
          "exception": false,
          "start_time": "2021-09-19T20:11:36.053304",
          "status": "completed"
        },
        "tags": [],
        "id": "2273ea11"
      },
      "source": [
        "**Remove duplicates from movie column**"
      ],
      "id": "2273ea11"
    },
    {
      "cell_type": "code",
      "metadata": {
        "execution": {
          "iopub.execute_input": "2021-09-19T20:11:36.145607Z",
          "iopub.status.busy": "2021-09-19T20:11:36.144910Z",
          "iopub.status.idle": "2021-09-19T20:11:36.152939Z",
          "shell.execute_reply": "2021-09-19T20:11:36.152287Z",
          "shell.execute_reply.started": "2021-09-19T20:08:07.448374Z"
        },
        "papermill": {
          "duration": 0.042222,
          "end_time": "2021-09-19T20:11:36.153075",
          "exception": false,
          "start_time": "2021-09-19T20:11:36.110853",
          "status": "completed"
        },
        "tags": [],
        "colab": {
          "base_uri": "https://localhost:8080/"
        },
        "id": "dd8c5275",
        "outputId": "d1508669-96ee-4467-ecaf-7a4441badcb1"
      },
      "source": [
        "df.drop_duplicates(subset=['MOVIES']).shape"
      ],
      "id": "dd8c5275",
      "execution_count": 36,
      "outputs": [
        {
          "output_type": "execute_result",
          "data": {
            "text/plain": [
              "(6398, 9)"
            ]
          },
          "metadata": {},
          "execution_count": 36
        }
      ]
    },
    {
      "cell_type": "markdown",
      "metadata": {
        "papermill": {
          "duration": 0.028797,
          "end_time": "2021-09-19T20:11:36.210957",
          "exception": false,
          "start_time": "2021-09-19T20:11:36.182160",
          "status": "completed"
        },
        "tags": [],
        "id": "ed1ba37b"
      },
      "source": [
        "**Add new feature by spliting the existing STARS column**"
      ],
      "id": "ed1ba37b"
    },
    {
      "cell_type": "code",
      "metadata": {
        "execution": {
          "iopub.execute_input": "2021-09-19T20:11:36.299497Z",
          "iopub.status.busy": "2021-09-19T20:11:36.291316Z",
          "iopub.status.idle": "2021-09-19T20:11:36.304211Z",
          "shell.execute_reply": "2021-09-19T20:11:36.303535Z",
          "shell.execute_reply.started": "2021-09-19T20:08:07.461534Z"
        },
        "papermill": {
          "duration": 0.064285,
          "end_time": "2021-09-19T20:11:36.304351",
          "exception": false,
          "start_time": "2021-09-19T20:11:36.240066",
          "status": "completed"
        },
        "tags": [],
        "colab": {
          "base_uri": "https://localhost:8080/",
          "height": 203
        },
        "id": "13adc4ee",
        "outputId": "abf55e40-d471-46c0-c0d2-4c8dc19c5aed"
      },
      "source": [
        "def extract_director(direc):\n",
        "    if 'Director' in direc or 'Directors' in direc:\n",
        "        director = direc.strip().split(\"|\")[0] \n",
        "        return director.split(\":\")[1]\n",
        "    else:\n",
        "        return ''\n",
        "\n",
        "def extract_stars(stars):\n",
        "    if 'Star' not in stars or 'Stars' not in stars:\n",
        "        return ''\n",
        "    else:\n",
        "        return stars.split(\":\")[-1]\n",
        "\n",
        "df['Director'] = df['STARS'].apply(lambda d: extract_director(d))\n",
        "df['Stars'] = df['STARS'].apply(lambda s: extract_stars(s))\n",
        "\n",
        "df[['STARS','Director','Stars']].head()"
      ],
      "id": "13adc4ee",
      "execution_count": 37,
      "outputs": [
        {
          "output_type": "execute_result",
          "data": {
            "text/html": [
              "<div>\n",
              "<style scoped>\n",
              "    .dataframe tbody tr th:only-of-type {\n",
              "        vertical-align: middle;\n",
              "    }\n",
              "\n",
              "    .dataframe tbody tr th {\n",
              "        vertical-align: top;\n",
              "    }\n",
              "\n",
              "    .dataframe thead th {\n",
              "        text-align: right;\n",
              "    }\n",
              "</style>\n",
              "<table border=\"1\" class=\"dataframe\">\n",
              "  <thead>\n",
              "    <tr style=\"text-align: right;\">\n",
              "      <th></th>\n",
              "      <th>STARS</th>\n",
              "      <th>Director</th>\n",
              "      <th>Stars</th>\n",
              "    </tr>\n",
              "  </thead>\n",
              "  <tbody>\n",
              "    <tr>\n",
              "      <th>0</th>\n",
              "      <td>Director:Peter Thorwarth|     Stars:Peri Baume...</td>\n",
              "      <td>Peter Thorwarth</td>\n",
              "      <td>Peri Baumeister, Carl Anton Koch, Alexander Sc...</td>\n",
              "    </tr>\n",
              "    <tr>\n",
              "      <th>1</th>\n",
              "      <td>Stars:Chris Wood, Sarah Michelle Gellar, Lena ...</td>\n",
              "      <td></td>\n",
              "      <td>Chris Wood, Sarah Michelle Gellar, Lena Headey...</td>\n",
              "    </tr>\n",
              "    <tr>\n",
              "      <th>2</th>\n",
              "      <td>Stars:Andrew Lincoln, Norman Reedus, Melissa M...</td>\n",
              "      <td></td>\n",
              "      <td>Andrew Lincoln, Norman Reedus, Melissa McBride...</td>\n",
              "    </tr>\n",
              "    <tr>\n",
              "      <th>3</th>\n",
              "      <td>Stars:Justin Roiland, Chris Parnell, Spencer G...</td>\n",
              "      <td></td>\n",
              "      <td>Justin Roiland, Chris Parnell, Spencer Grammer...</td>\n",
              "    </tr>\n",
              "    <tr>\n",
              "      <th>4</th>\n",
              "      <td>Director:Matthias Schweighöfer|     Stars:Matt...</td>\n",
              "      <td>Matthias Schweighöfer</td>\n",
              "      <td>Matthias Schweighöfer, Nathalie Emmanuel, Ruby...</td>\n",
              "    </tr>\n",
              "  </tbody>\n",
              "</table>\n",
              "</div>"
            ],
            "text/plain": [
              "                                               STARS  ...                                              Stars\n",
              "0  Director:Peter Thorwarth|     Stars:Peri Baume...  ...  Peri Baumeister, Carl Anton Koch, Alexander Sc...\n",
              "1  Stars:Chris Wood, Sarah Michelle Gellar, Lena ...  ...  Chris Wood, Sarah Michelle Gellar, Lena Headey...\n",
              "2  Stars:Andrew Lincoln, Norman Reedus, Melissa M...  ...  Andrew Lincoln, Norman Reedus, Melissa McBride...\n",
              "3  Stars:Justin Roiland, Chris Parnell, Spencer G...  ...  Justin Roiland, Chris Parnell, Spencer Grammer...\n",
              "4  Director:Matthias Schweighöfer|     Stars:Matt...  ...  Matthias Schweighöfer, Nathalie Emmanuel, Ruby...\n",
              "\n",
              "[5 rows x 3 columns]"
            ]
          },
          "metadata": {},
          "execution_count": 37
        }
      ]
    },
    {
      "cell_type": "code",
      "metadata": {
        "execution": {
          "iopub.execute_input": "2021-09-19T20:11:36.388822Z",
          "iopub.status.busy": "2021-09-19T20:11:36.387697Z",
          "iopub.status.idle": "2021-09-19T20:11:36.391798Z",
          "shell.execute_reply": "2021-09-19T20:11:36.392285Z",
          "shell.execute_reply.started": "2021-09-19T20:08:07.498004Z"
        },
        "papermill": {
          "duration": 0.058263,
          "end_time": "2021-09-19T20:11:36.392468",
          "exception": false,
          "start_time": "2021-09-19T20:11:36.334205",
          "status": "completed"
        },
        "tags": [],
        "colab": {
          "base_uri": "https://localhost:8080/",
          "height": 1000
        },
        "id": "b8c3a51e",
        "outputId": "150a4448-93cd-47ee-829c-cb913bebb52d"
      },
      "source": [
        "df.head(20)"
      ],
      "id": "b8c3a51e",
      "execution_count": 38,
      "outputs": [
        {
          "output_type": "execute_result",
          "data": {
            "text/html": [
              "<div>\n",
              "<style scoped>\n",
              "    .dataframe tbody tr th:only-of-type {\n",
              "        vertical-align: middle;\n",
              "    }\n",
              "\n",
              "    .dataframe tbody tr th {\n",
              "        vertical-align: top;\n",
              "    }\n",
              "\n",
              "    .dataframe thead th {\n",
              "        text-align: right;\n",
              "    }\n",
              "</style>\n",
              "<table border=\"1\" class=\"dataframe\">\n",
              "  <thead>\n",
              "    <tr style=\"text-align: right;\">\n",
              "      <th></th>\n",
              "      <th>MOVIES</th>\n",
              "      <th>GENRE</th>\n",
              "      <th>RATING</th>\n",
              "      <th>ONE-LINE</th>\n",
              "      <th>STARS</th>\n",
              "      <th>VOTES</th>\n",
              "      <th>RunTime</th>\n",
              "      <th>Gross</th>\n",
              "      <th>Year</th>\n",
              "      <th>Director</th>\n",
              "      <th>Stars</th>\n",
              "    </tr>\n",
              "  </thead>\n",
              "  <tbody>\n",
              "    <tr>\n",
              "      <th>0</th>\n",
              "      <td>Blood Red Sky</td>\n",
              "      <td>Action, Horror, Thriller</td>\n",
              "      <td>6.1</td>\n",
              "      <td>A woman with a mysterious illness is forced in...</td>\n",
              "      <td>Director:Peter Thorwarth|     Stars:Peri Baume...</td>\n",
              "      <td>21,062</td>\n",
              "      <td>121.0</td>\n",
              "      <td>NaN</td>\n",
              "      <td>2021</td>\n",
              "      <td>Peter Thorwarth</td>\n",
              "      <td>Peri Baumeister, Carl Anton Koch, Alexander Sc...</td>\n",
              "    </tr>\n",
              "    <tr>\n",
              "      <th>1</th>\n",
              "      <td>Masters of the Universe: Revelation</td>\n",
              "      <td>Animation, Action, Adventure</td>\n",
              "      <td>5.0</td>\n",
              "      <td>The war for Eternia begins again in what may b...</td>\n",
              "      <td>Stars:Chris Wood, Sarah Michelle Gellar, Lena ...</td>\n",
              "      <td>17,870</td>\n",
              "      <td>25.0</td>\n",
              "      <td>NaN</td>\n",
              "      <td>2021–</td>\n",
              "      <td></td>\n",
              "      <td>Chris Wood, Sarah Michelle Gellar, Lena Headey...</td>\n",
              "    </tr>\n",
              "    <tr>\n",
              "      <th>2</th>\n",
              "      <td>The Walking Dead</td>\n",
              "      <td>Drama, Horror, Thriller</td>\n",
              "      <td>8.2</td>\n",
              "      <td>Sheriff Deputy Rick Grimes wakes up from a com...</td>\n",
              "      <td>Stars:Andrew Lincoln, Norman Reedus, Melissa M...</td>\n",
              "      <td>885,805</td>\n",
              "      <td>44.0</td>\n",
              "      <td>NaN</td>\n",
              "      <td>2010–2022</td>\n",
              "      <td></td>\n",
              "      <td>Andrew Lincoln, Norman Reedus, Melissa McBride...</td>\n",
              "    </tr>\n",
              "    <tr>\n",
              "      <th>3</th>\n",
              "      <td>Rick and Morty</td>\n",
              "      <td>Animation, Adventure, Comedy</td>\n",
              "      <td>9.2</td>\n",
              "      <td>An animated series that follows the exploits o...</td>\n",
              "      <td>Stars:Justin Roiland, Chris Parnell, Spencer G...</td>\n",
              "      <td>414,849</td>\n",
              "      <td>23.0</td>\n",
              "      <td>NaN</td>\n",
              "      <td>2013–</td>\n",
              "      <td></td>\n",
              "      <td>Justin Roiland, Chris Parnell, Spencer Grammer...</td>\n",
              "    </tr>\n",
              "    <tr>\n",
              "      <th>4</th>\n",
              "      <td>Army of Thieves</td>\n",
              "      <td>Action, Crime, Horror</td>\n",
              "      <td>NaN</td>\n",
              "      <td>A prequel, set before the events of Army of th...</td>\n",
              "      <td>Director:Matthias Schweighöfer|     Stars:Matt...</td>\n",
              "      <td>NaN</td>\n",
              "      <td>NaN</td>\n",
              "      <td>NaN</td>\n",
              "      <td>2021</td>\n",
              "      <td>Matthias Schweighöfer</td>\n",
              "      <td>Matthias Schweighöfer, Nathalie Emmanuel, Ruby...</td>\n",
              "    </tr>\n",
              "    <tr>\n",
              "      <th>5</th>\n",
              "      <td>Outer Banks</td>\n",
              "      <td>Action, Crime, Drama</td>\n",
              "      <td>7.6</td>\n",
              "      <td>A group of teenagers from the wrong side of th...</td>\n",
              "      <td>Stars:Chase Stokes, Madelyn Cline, Madison Bai...</td>\n",
              "      <td>25,858</td>\n",
              "      <td>50.0</td>\n",
              "      <td>NaN</td>\n",
              "      <td>2020–</td>\n",
              "      <td></td>\n",
              "      <td>Chase Stokes, Madelyn Cline, Madison Bailey, J...</td>\n",
              "    </tr>\n",
              "    <tr>\n",
              "      <th>6</th>\n",
              "      <td>The Last Letter from Your Lover</td>\n",
              "      <td>Drama, Romance</td>\n",
              "      <td>6.8</td>\n",
              "      <td>A pair of interwoven stories set in the past a...</td>\n",
              "      <td>Director:Augustine Frizzell|     Stars:Shailen...</td>\n",
              "      <td>5,283</td>\n",
              "      <td>110.0</td>\n",
              "      <td>NaN</td>\n",
              "      <td>2021</td>\n",
              "      <td>Augustine Frizzell</td>\n",
              "      <td>Shailene Woodley, Joe Alwyn, Wendy Nottingham,...</td>\n",
              "    </tr>\n",
              "    <tr>\n",
              "      <th>7</th>\n",
              "      <td>Dexter</td>\n",
              "      <td>Crime, Drama, Mystery</td>\n",
              "      <td>8.6</td>\n",
              "      <td>By day, mild-mannered Dexter is a blood-spatte...</td>\n",
              "      <td>Stars:Michael C. Hall, Jennifer Carpenter, Dav...</td>\n",
              "      <td>665,387</td>\n",
              "      <td>53.0</td>\n",
              "      <td>NaN</td>\n",
              "      <td>2006–2013</td>\n",
              "      <td></td>\n",
              "      <td>Michael C. Hall, Jennifer Carpenter, David Zay...</td>\n",
              "    </tr>\n",
              "    <tr>\n",
              "      <th>8</th>\n",
              "      <td>Never Have I Ever</td>\n",
              "      <td>Comedy</td>\n",
              "      <td>7.9</td>\n",
              "      <td>The complicated life of a modern-day first gen...</td>\n",
              "      <td>Stars:Maitreyi Ramakrishnan, Poorna Jagannatha...</td>\n",
              "      <td>34,530</td>\n",
              "      <td>30.0</td>\n",
              "      <td>NaN</td>\n",
              "      <td>2020–</td>\n",
              "      <td></td>\n",
              "      <td>Maitreyi Ramakrishnan, Poorna Jagannathan, Dar...</td>\n",
              "    </tr>\n",
              "    <tr>\n",
              "      <th>9</th>\n",
              "      <td>Virgin River</td>\n",
              "      <td>Drama, Romance</td>\n",
              "      <td>7.4</td>\n",
              "      <td>Seeking a fresh start, nurse practitioner Meli...</td>\n",
              "      <td>Stars:Alexandra Breckenridge, Martin Henderson...</td>\n",
              "      <td>27,279</td>\n",
              "      <td>44.0</td>\n",
              "      <td>NaN</td>\n",
              "      <td>2019–</td>\n",
              "      <td></td>\n",
              "      <td>Alexandra Breckenridge, Martin Henderson, Coli...</td>\n",
              "    </tr>\n",
              "    <tr>\n",
              "      <th>10</th>\n",
              "      <td>Gunpowder Milkshake</td>\n",
              "      <td>Action, Adventure, Thriller</td>\n",
              "      <td>6.0</td>\n",
              "      <td>Three generations of women fight back against ...</td>\n",
              "      <td>Director:Navot Papushado|     Stars:Karen Gill...</td>\n",
              "      <td>17,989</td>\n",
              "      <td>114.0</td>\n",
              "      <td>NaN</td>\n",
              "      <td>2021</td>\n",
              "      <td>Navot Papushado</td>\n",
              "      <td>Karen Gillan, Lena Headey, Carla Gugino, Miche...</td>\n",
              "    </tr>\n",
              "    <tr>\n",
              "      <th>11</th>\n",
              "      <td>Lucifer</td>\n",
              "      <td>Crime, Drama, Fantasy</td>\n",
              "      <td>8.1</td>\n",
              "      <td>Lucifer Morningstar has decided he's had enoug...</td>\n",
              "      <td>Stars:Tom Ellis, Lesley-Ann Brandt, Lauren Ger...</td>\n",
              "      <td>264,222</td>\n",
              "      <td>42.0</td>\n",
              "      <td>NaN</td>\n",
              "      <td>2016–2021</td>\n",
              "      <td></td>\n",
              "      <td>Tom Ellis, Lesley-Ann Brandt, Lauren German, D...</td>\n",
              "    </tr>\n",
              "    <tr>\n",
              "      <th>12</th>\n",
              "      <td>Fear Street: 1994</td>\n",
              "      <td>Drama, Horror, Mystery</td>\n",
              "      <td>6.2</td>\n",
              "      <td>A circle of teenage friends accidentally encou...</td>\n",
              "      <td>Director:Leigh Janiak|     Stars:Kiana Madeira...</td>\n",
              "      <td>50,148</td>\n",
              "      <td>107.0</td>\n",
              "      <td>NaN</td>\n",
              "      <td>2021</td>\n",
              "      <td>Leigh Janiak</td>\n",
              "      <td>Kiana Madeira, Olivia Scott Welch, Benjamin Fl...</td>\n",
              "    </tr>\n",
              "    <tr>\n",
              "      <th>13</th>\n",
              "      <td>Sex/Life</td>\n",
              "      <td>Comedy, Drama, Romance</td>\n",
              "      <td>5.4</td>\n",
              "      <td>A suburban mother of two takes a fantasy-charg...</td>\n",
              "      <td>Stars:Sarah Shahi, Mike Vogel, Adam Demos, Mar...</td>\n",
              "      <td>12,172</td>\n",
              "      <td>NaN</td>\n",
              "      <td>NaN</td>\n",
              "      <td>2021–</td>\n",
              "      <td></td>\n",
              "      <td>Sarah Shahi, Mike Vogel, Adam Demos, Margaret ...</td>\n",
              "    </tr>\n",
              "    <tr>\n",
              "      <th>14</th>\n",
              "      <td>American Horror Story</td>\n",
              "      <td>Drama, Horror, Thriller</td>\n",
              "      <td>8.0</td>\n",
              "      <td>An anthology series centering on different cha...</td>\n",
              "      <td>Stars:Lady Gaga, Kathy Bates, Angela Bassett, ...</td>\n",
              "      <td>286,488</td>\n",
              "      <td>60.0</td>\n",
              "      <td>NaN</td>\n",
              "      <td>2011–</td>\n",
              "      <td></td>\n",
              "      <td>Lady Gaga, Kathy Bates, Angela Bassett, Sarah ...</td>\n",
              "    </tr>\n",
              "    <tr>\n",
              "      <th>15</th>\n",
              "      <td>Grey's Anatomy</td>\n",
              "      <td>Drama, Romance</td>\n",
              "      <td>7.5</td>\n",
              "      <td>A drama centered on the personal and professio...</td>\n",
              "      <td>Stars:Ellen Pompeo, Chandra Wilson, James Pick...</td>\n",
              "      <td>266,258</td>\n",
              "      <td>41.0</td>\n",
              "      <td>NaN</td>\n",
              "      <td>2005–</td>\n",
              "      <td></td>\n",
              "      <td>Ellen Pompeo, Chandra Wilson, James Pickens Jr...</td>\n",
              "    </tr>\n",
              "    <tr>\n",
              "      <th>16</th>\n",
              "      <td>Breaking Bad</td>\n",
              "      <td>Crime, Drama, Thriller</td>\n",
              "      <td>9.4</td>\n",
              "      <td>A high school chemistry teacher diagnosed with...</td>\n",
              "      <td>Stars:Bryan Cranston, Aaron Paul, Anna Gunn, B...</td>\n",
              "      <td>1,552,311</td>\n",
              "      <td>49.0</td>\n",
              "      <td>NaN</td>\n",
              "      <td>2008–2013</td>\n",
              "      <td></td>\n",
              "      <td>Bryan Cranston, Aaron Paul, Anna Gunn, Betsy B...</td>\n",
              "    </tr>\n",
              "    <tr>\n",
              "      <th>17</th>\n",
              "      <td>The Good Doctor</td>\n",
              "      <td>Drama</td>\n",
              "      <td>8.1</td>\n",
              "      <td>Shaun Murphy, a young surgeon with autism and ...</td>\n",
              "      <td>Stars:Freddie Highmore, Hill Harper, Richard S...</td>\n",
              "      <td>70,871</td>\n",
              "      <td>41.0</td>\n",
              "      <td>NaN</td>\n",
              "      <td>2017–</td>\n",
              "      <td></td>\n",
              "      <td>Freddie Highmore, Hill Harper, Richard Schiff,...</td>\n",
              "    </tr>\n",
              "    <tr>\n",
              "      <th>18</th>\n",
              "      <td>Atypical</td>\n",
              "      <td>Comedy, Drama</td>\n",
              "      <td>8.3</td>\n",
              "      <td>Sam, an 18-year-old on the autism spectrum, de...</td>\n",
              "      <td>Stars:Jennifer Jason Leigh, Keir Gilchrist, Br...</td>\n",
              "      <td>71,544</td>\n",
              "      <td>30.0</td>\n",
              "      <td>NaN</td>\n",
              "      <td>2017–2021</td>\n",
              "      <td></td>\n",
              "      <td>Jennifer Jason Leigh, Keir Gilchrist, Brigette...</td>\n",
              "    </tr>\n",
              "    <tr>\n",
              "      <th>19</th>\n",
              "      <td>Stranger Things</td>\n",
              "      <td>Drama, Fantasy, Horror</td>\n",
              "      <td>8.7</td>\n",
              "      <td>When a young boy disappears, his mother, a pol...</td>\n",
              "      <td>Stars:Millie Bobby Brown, Finn Wolfhard, Winon...</td>\n",
              "      <td>885,856</td>\n",
              "      <td>51.0</td>\n",
              "      <td>NaN</td>\n",
              "      <td>2016–</td>\n",
              "      <td></td>\n",
              "      <td>Millie Bobby Brown, Finn Wolfhard, Winona Ryde...</td>\n",
              "    </tr>\n",
              "  </tbody>\n",
              "</table>\n",
              "</div>"
            ],
            "text/plain": [
              "                                 MOVIES  ...                                              Stars\n",
              "0                         Blood Red Sky  ...  Peri Baumeister, Carl Anton Koch, Alexander Sc...\n",
              "1   Masters of the Universe: Revelation  ...  Chris Wood, Sarah Michelle Gellar, Lena Headey...\n",
              "2                      The Walking Dead  ...  Andrew Lincoln, Norman Reedus, Melissa McBride...\n",
              "3                        Rick and Morty  ...  Justin Roiland, Chris Parnell, Spencer Grammer...\n",
              "4                       Army of Thieves  ...  Matthias Schweighöfer, Nathalie Emmanuel, Ruby...\n",
              "5                           Outer Banks  ...  Chase Stokes, Madelyn Cline, Madison Bailey, J...\n",
              "6       The Last Letter from Your Lover  ...  Shailene Woodley, Joe Alwyn, Wendy Nottingham,...\n",
              "7                                Dexter  ...  Michael C. Hall, Jennifer Carpenter, David Zay...\n",
              "8                     Never Have I Ever  ...  Maitreyi Ramakrishnan, Poorna Jagannathan, Dar...\n",
              "9                          Virgin River  ...  Alexandra Breckenridge, Martin Henderson, Coli...\n",
              "10                  Gunpowder Milkshake  ...  Karen Gillan, Lena Headey, Carla Gugino, Miche...\n",
              "11                              Lucifer  ...  Tom Ellis, Lesley-Ann Brandt, Lauren German, D...\n",
              "12                    Fear Street: 1994  ...  Kiana Madeira, Olivia Scott Welch, Benjamin Fl...\n",
              "13                             Sex/Life  ...  Sarah Shahi, Mike Vogel, Adam Demos, Margaret ...\n",
              "14                American Horror Story  ...  Lady Gaga, Kathy Bates, Angela Bassett, Sarah ...\n",
              "15                       Grey's Anatomy  ...  Ellen Pompeo, Chandra Wilson, James Pickens Jr...\n",
              "16                         Breaking Bad  ...  Bryan Cranston, Aaron Paul, Anna Gunn, Betsy B...\n",
              "17                      The Good Doctor  ...  Freddie Highmore, Hill Harper, Richard Schiff,...\n",
              "18                             Atypical  ...  Jennifer Jason Leigh, Keir Gilchrist, Brigette...\n",
              "19                      Stranger Things  ...  Millie Bobby Brown, Finn Wolfhard, Winona Ryde...\n",
              "\n",
              "[20 rows x 11 columns]"
            ]
          },
          "metadata": {},
          "execution_count": 38
        }
      ]
    },
    {
      "cell_type": "markdown",
      "metadata": {
        "papermill": {
          "duration": 0.030815,
          "end_time": "2021-09-19T20:11:36.454354",
          "exception": false,
          "start_time": "2021-09-19T20:11:36.423539",
          "status": "completed"
        },
        "tags": [],
        "id": "c95a9495"
      },
      "source": [
        "**Sort the dataset as per Year**"
      ],
      "id": "c95a9495"
    },
    {
      "cell_type": "code",
      "metadata": {
        "execution": {
          "iopub.execute_input": "2021-09-19T20:11:36.529083Z",
          "iopub.status.busy": "2021-09-19T20:11:36.528250Z",
          "iopub.status.idle": "2021-09-19T20:11:36.552597Z",
          "shell.execute_reply": "2021-09-19T20:11:36.552029Z",
          "shell.execute_reply.started": "2021-09-19T20:08:07.528394Z"
        },
        "papermill": {
          "duration": 0.067902,
          "end_time": "2021-09-19T20:11:36.552741",
          "exception": false,
          "start_time": "2021-09-19T20:11:36.484839",
          "status": "completed"
        },
        "tags": [],
        "colab": {
          "base_uri": "https://localhost:8080/",
          "height": 870
        },
        "id": "3f5f8931",
        "outputId": "fbd2ba9b-2bb7-49ca-a95b-a6c37ded0c80"
      },
      "source": [
        "df.sort_values(by=['Year'])"
      ],
      "id": "3f5f8931",
      "execution_count": 39,
      "outputs": [
        {
          "output_type": "execute_result",
          "data": {
            "text/html": [
              "<div>\n",
              "<style scoped>\n",
              "    .dataframe tbody tr th:only-of-type {\n",
              "        vertical-align: middle;\n",
              "    }\n",
              "\n",
              "    .dataframe tbody tr th {\n",
              "        vertical-align: top;\n",
              "    }\n",
              "\n",
              "    .dataframe thead th {\n",
              "        text-align: right;\n",
              "    }\n",
              "</style>\n",
              "<table border=\"1\" class=\"dataframe\">\n",
              "  <thead>\n",
              "    <tr style=\"text-align: right;\">\n",
              "      <th></th>\n",
              "      <th>MOVIES</th>\n",
              "      <th>GENRE</th>\n",
              "      <th>RATING</th>\n",
              "      <th>ONE-LINE</th>\n",
              "      <th>STARS</th>\n",
              "      <th>VOTES</th>\n",
              "      <th>RunTime</th>\n",
              "      <th>Gross</th>\n",
              "      <th>Year</th>\n",
              "      <th>Director</th>\n",
              "      <th>Stars</th>\n",
              "    </tr>\n",
              "  </thead>\n",
              "  <tbody>\n",
              "    <tr>\n",
              "      <th>1352</th>\n",
              "      <td>Scarface</td>\n",
              "      <td>Action, Crime, Drama</td>\n",
              "      <td>7.8</td>\n",
              "      <td>An ambitious and nearly insane violent gangste...</td>\n",
              "      <td>Directors:Howard Hawks, Richard Rosson|     St...</td>\n",
              "      <td>26,365</td>\n",
              "      <td>93.0</td>\n",
              "      <td>NaN</td>\n",
              "      <td>1932</td>\n",
              "      <td>Howard Hawks, Richard Rosson</td>\n",
              "      <td>Paul Muni, Ann Dvorak, Karen Morley, Osgood Pe...</td>\n",
              "    </tr>\n",
              "    <tr>\n",
              "      <th>5213</th>\n",
              "      <td>Söderkåkar</td>\n",
              "      <td>Comedy</td>\n",
              "      <td>5.3</td>\n",
              "      <td>The movie version of Gideon Wahlbergs comedy a...</td>\n",
              "      <td>Director:Weyler Hildebrand|     Stars:Gideon W...</td>\n",
              "      <td>59</td>\n",
              "      <td>87.0</td>\n",
              "      <td>NaN</td>\n",
              "      <td>1932</td>\n",
              "      <td>Weyler Hildebrand</td>\n",
              "      <td>Gideon Wahlberg, Dagmar Ebbesen, Björn Berglun...</td>\n",
              "    </tr>\n",
              "    <tr>\n",
              "      <th>5915</th>\n",
              "      <td>Kära släkten</td>\n",
              "      <td>Comedy</td>\n",
              "      <td>5.4</td>\n",
              "      <td>The story about a Stockholm wholesaler and his...</td>\n",
              "      <td>Director:Gustaf Molander|     Stars:Gösta Ekma...</td>\n",
              "      <td>36</td>\n",
              "      <td>94.0</td>\n",
              "      <td>NaN</td>\n",
              "      <td>1933</td>\n",
              "      <td>Gustaf Molander</td>\n",
              "      <td>Gösta Ekman, Tutta Rolf, Carl Barcklind, Thor ...</td>\n",
              "    </tr>\n",
              "    <tr>\n",
              "      <th>6089</th>\n",
              "      <td>Karriär</td>\n",
              "      <td>Drama</td>\n",
              "      <td>5.2</td>\n",
              "      <td>A traveling theater company in Sweden. Conflic...</td>\n",
              "      <td>Director:Schamyl Bauman|     Stars:Signe Hasso...</td>\n",
              "      <td>52</td>\n",
              "      <td>106.0</td>\n",
              "      <td>NaN</td>\n",
              "      <td>1938</td>\n",
              "      <td>Schamyl Bauman</td>\n",
              "      <td>Signe Hasso, Sture Lagerwall, Tollie Zellman, ...</td>\n",
              "    </tr>\n",
              "    <tr>\n",
              "      <th>1373</th>\n",
              "      <td>Dumbo</td>\n",
              "      <td>Animation, Adventure, Drama</td>\n",
              "      <td>7.2</td>\n",
              "      <td>Ridiculed because of his enormous ears, a youn...</td>\n",
              "      <td>Directors:Samuel Armstrong, Norman Ferguson, W...</td>\n",
              "      <td>124,409</td>\n",
              "      <td>64.0</td>\n",
              "      <td>$1.60M</td>\n",
              "      <td>1941</td>\n",
              "      <td>Samuel Armstrong, Norman Ferguson, Wilfred Jac...</td>\n",
              "      <td>Sterling Holloway, Edward Brophy, Herman Bing,...</td>\n",
              "    </tr>\n",
              "    <tr>\n",
              "      <th>...</th>\n",
              "      <td>...</td>\n",
              "      <td>...</td>\n",
              "      <td>...</td>\n",
              "      <td>...</td>\n",
              "      <td>...</td>\n",
              "      <td>...</td>\n",
              "      <td>...</td>\n",
              "      <td>...</td>\n",
              "      <td>...</td>\n",
              "      <td>...</td>\n",
              "      <td>...</td>\n",
              "    </tr>\n",
              "    <tr>\n",
              "      <th>5825</th>\n",
              "      <td>The Outlaw Ocean</td>\n",
              "      <td>Action, Adventure, Crime</td>\n",
              "      <td>NaN</td>\n",
              "      <td>A vigilante crew hunts down illegal poachers a...</td>\n",
              "      <td></td>\n",
              "      <td>NaN</td>\n",
              "      <td>NaN</td>\n",
              "      <td>NaN</td>\n",
              "      <td>Unknown</td>\n",
              "      <td></td>\n",
              "      <td></td>\n",
              "    </tr>\n",
              "    <tr>\n",
              "      <th>3338</th>\n",
              "      <td>Magic: The Gathering</td>\n",
              "      <td>Animation, Action, Adventure</td>\n",
              "      <td>NaN</td>\n",
              "      <td>Series focusing on the Planeswalkers, Magic's ...</td>\n",
              "      <td></td>\n",
              "      <td>NaN</td>\n",
              "      <td>NaN</td>\n",
              "      <td>NaN</td>\n",
              "      <td>Unknown</td>\n",
              "      <td></td>\n",
              "      <td></td>\n",
              "    </tr>\n",
              "    <tr>\n",
              "      <th>5828</th>\n",
              "      <td>Pokémon</td>\n",
              "      <td>Action, Adventure, Comedy</td>\n",
              "      <td>NaN</td>\n",
              "      <td>Plot under wraps. Adaptation of the Anime series.</td>\n",
              "      <td></td>\n",
              "      <td>NaN</td>\n",
              "      <td>NaN</td>\n",
              "      <td>NaN</td>\n",
              "      <td>Unknown</td>\n",
              "      <td></td>\n",
              "      <td></td>\n",
              "    </tr>\n",
              "    <tr>\n",
              "      <th>3440</th>\n",
              "      <td>Blue Eye Samurai</td>\n",
              "      <td>Animation, Action, Adventure</td>\n",
              "      <td>NaN</td>\n",
              "      <td>A mixed-race master of the sword named Erskine...</td>\n",
              "      <td>Stars:Darren Barnet, Christine Ko, Brenda Song...</td>\n",
              "      <td>NaN</td>\n",
              "      <td>NaN</td>\n",
              "      <td>NaN</td>\n",
              "      <td>Unknown</td>\n",
              "      <td></td>\n",
              "      <td>Darren Barnet, Christine Ko, Brenda Song, Maya...</td>\n",
              "    </tr>\n",
              "    <tr>\n",
              "      <th>5412</th>\n",
              "      <td>Last Sons of America</td>\n",
              "      <td>Comedy, Sci-Fi</td>\n",
              "      <td>NaN</td>\n",
              "      <td>A pair of brothers work as adoption agents in ...</td>\n",
              "      <td>Director:Josh Mond|     Star:Peter Dinklage</td>\n",
              "      <td>NaN</td>\n",
              "      <td>NaN</td>\n",
              "      <td>NaN</td>\n",
              "      <td>Unknown</td>\n",
              "      <td>Josh Mond</td>\n",
              "      <td></td>\n",
              "    </tr>\n",
              "  </tbody>\n",
              "</table>\n",
              "<p>6398 rows × 11 columns</p>\n",
              "</div>"
            ],
            "text/plain": [
              "                    MOVIES  ...                                              Stars\n",
              "1352              Scarface  ...  Paul Muni, Ann Dvorak, Karen Morley, Osgood Pe...\n",
              "5213            Söderkåkar  ...  Gideon Wahlberg, Dagmar Ebbesen, Björn Berglun...\n",
              "5915          Kära släkten  ...  Gösta Ekman, Tutta Rolf, Carl Barcklind, Thor ...\n",
              "6089               Karriär  ...  Signe Hasso, Sture Lagerwall, Tollie Zellman, ...\n",
              "1373                 Dumbo  ...  Sterling Holloway, Edward Brophy, Herman Bing,...\n",
              "...                    ...  ...                                                ...\n",
              "5825      The Outlaw Ocean  ...                                                   \n",
              "3338  Magic: The Gathering  ...                                                   \n",
              "5828               Pokémon  ...                                                   \n",
              "3440      Blue Eye Samurai  ...  Darren Barnet, Christine Ko, Brenda Song, Maya...\n",
              "5412  Last Sons of America  ...                                                   \n",
              "\n",
              "[6398 rows x 11 columns]"
            ]
          },
          "metadata": {},
          "execution_count": 39
        }
      ]
    },
    {
      "cell_type": "markdown",
      "metadata": {
        "papermill": {
          "duration": 0.030904,
          "end_time": "2021-09-19T20:11:36.615021",
          "exception": false,
          "start_time": "2021-09-19T20:11:36.584117",
          "status": "completed"
        },
        "tags": [],
        "id": "5c475007"
      },
      "source": [
        "# DATA VISUALIZATION"
      ],
      "id": "5c475007"
    },
    {
      "cell_type": "code",
      "metadata": {
        "_kg_hide-output": true,
        "execution": {
          "iopub.execute_input": "2021-09-19T20:11:36.685699Z",
          "iopub.status.busy": "2021-09-19T20:11:36.685011Z",
          "iopub.status.idle": "2021-09-19T20:11:37.807182Z",
          "shell.execute_reply": "2021-09-19T20:11:37.807908Z",
          "shell.execute_reply.started": "2021-09-19T20:09:22.282410Z"
        },
        "papermill": {
          "duration": 1.160907,
          "end_time": "2021-09-19T20:11:37.808101",
          "exception": false,
          "start_time": "2021-09-19T20:11:36.647194",
          "status": "completed"
        },
        "tags": [],
        "colab": {
          "base_uri": "https://localhost:8080/",
          "height": 648
        },
        "id": "1d9c1b01",
        "outputId": "06bd5e0e-9912-474c-d083-197a4f9a420d"
      },
      "source": [
        "df_year=year_count.head(20)\n",
        "df_year.plot(kind='bar', x='Year', y='Count', title =\"Year(s) Distribution\", figsize=(15, 10), legend=True, fontsize=12)\n",
        "px.show()"
      ],
      "id": "1d9c1b01",
      "execution_count": 60,
      "outputs": [
        {
          "output_type": "display_data",
          "data": {
            "image/png": "[encoded data removed]",
            "text/plain": [
              "<Figure size 1080x720 with 1 Axes>"
            ]
          },
          "metadata": {
            "needs_background": "light"
          }
        }
      ]
    },
    {
      "cell_type": "code",
      "metadata": {
        "execution": {
          "iopub.execute_input": "2021-09-19T20:11:37.924278Z",
          "iopub.status.busy": "2021-09-19T20:11:37.895972Z",
          "iopub.status.idle": "2021-09-19T20:11:37.979121Z",
          "shell.execute_reply": "2021-09-19T20:11:37.978474Z",
          "shell.execute_reply.started": "2021-09-19T20:08:07.654378Z"
        },
        "papermill": {
          "duration": 0.132226,
          "end_time": "2021-09-19T20:11:37.979296",
          "exception": false,
          "start_time": "2021-09-19T20:11:37.847070",
          "status": "completed"
        },
        "tags": [],
        "colab": {
          "base_uri": "https://localhost:8080/",
          "height": 631
        },
        "id": "ed7d5018",
        "outputId": "6519919d-ff48-4ad6-e2b3-6b2ac16477b5"
      },
      "source": [
        "df_rating = df['RATING'].value_counts().reset_index().head(20)\n",
        "fig = df_rating.plot(kind='bar', x = 'index', y = 'RATING', title =\"Rating Distribution\", figsize=(15, 10), legend=True, fontsize=12)\n",
        "px.xlabel('Ratings out of 10')\n",
        "px.ylabel('Movie count')\n",
        "px.show()"
      ],
      "id": "ed7d5018",
      "execution_count": 61,
      "outputs": [
        {
          "output_type": "display_data",
          "data": {
            "image/png": "[encoded data removed]",
            "text/plain": [
              "<Figure size 1080x720 with 1 Axes>"
            ]
          },
          "metadata": {
            "needs_background": "light"
          }
        }
      ]
    },
    {
      "cell_type": "code",
      "metadata": {
        "execution": {
          "iopub.execute_input": "2021-09-19T20:11:38.078473Z",
          "iopub.status.busy": "2021-09-19T20:11:38.077378Z",
          "iopub.status.idle": "2021-09-19T20:11:38.155833Z",
          "shell.execute_reply": "2021-09-19T20:11:38.156350Z",
          "shell.execute_reply.started": "2021-09-19T20:08:07.746309Z"
        },
        "papermill": {
          "duration": 0.12884,
          "end_time": "2021-09-19T20:11:38.156537",
          "exception": false,
          "start_time": "2021-09-19T20:11:38.027697",
          "status": "completed"
        },
        "tags": [],
        "colab": {
          "base_uri": "https://localhost:8080/",
          "height": 646
        },
        "id": "edd343c0",
        "outputId": "2889b849-40bf-4bb6-d680-a481a0a46233"
      },
      "source": [
        "fig = data_frame = df['RunTime'].value_counts().reset_index().head(20).plot(kind='bar',x = 'index', y = 'RunTime', title = 'Runtime Distribution', figsize=(15, 10), legend=True, fontsize=12)\n",
        "px.ylabel('Count')\n",
        "px.xlabel('Runtime (mins)')\n",
        "\n",
        "px.show()"
      ],
      "id": "edd343c0",
      "execution_count": 59,
      "outputs": [
        {
          "output_type": "display_data",
          "data": {
            "image/png": "[encoded data removed]",
            "text/plain": [
              "<Figure size 1080x720 with 1 Axes>"
            ]
          },
          "metadata": {
            "needs_background": "light"
          }
        }
      ]
    },
    {
      "cell_type": "code",
      "metadata": {
        "execution": {
          "iopub.execute_input": "2021-09-19T20:11:38.273196Z",
          "iopub.status.busy": "2021-09-19T20:11:38.272118Z",
          "iopub.status.idle": "2021-09-19T20:11:38.801091Z",
          "shell.execute_reply": "2021-09-19T20:11:38.801658Z",
          "shell.execute_reply.started": "2021-09-19T20:08:07.842182Z"
        },
        "papermill": {
          "duration": 0.591195,
          "end_time": "2021-09-19T20:11:38.801830",
          "exception": false,
          "start_time": "2021-09-19T20:11:38.210635",
          "status": "completed"
        },
        "tags": [],
        "colab": {
          "base_uri": "https://localhost:8080/",
          "height": 800
        },
        "id": "6101bc5d",
        "outputId": "fa68b0bb-3623-4bba-c8b1-40b5808ff8d2"
      },
      "source": [
        "movie_genre = df['GENRE'].value_counts().reset_index().rename(columns={'GENRE':'Count','index':'Genre'})\n",
        "movie_genre.sort_values(by='Count',ascending = False).head(20).plot(kind = 'bar' ,x = 'Genre', y = 'Count', title = 'Top 100 Genre Combination', figsize=(15, 10), legend=True, fontsize=12)\n",
        "\n",
        "px.show()"
      ],
      "id": "6101bc5d",
      "execution_count": 62,
      "outputs": [
        {
          "output_type": "display_data",
          "data": {
            "image/png": "[encoded data removed]",
            "text/plain": [
              "<Figure size 1080x720 with 1 Axes>"
            ]
          },
          "metadata": {
            "needs_background": "light"
          }
        }
      ]
    },
    {
      "cell_type": "code",
      "metadata": {
        "execution": {
          "iopub.execute_input": "2021-09-19T20:11:38.975231Z",
          "iopub.status.busy": "2021-09-19T20:11:38.963429Z",
          "iopub.status.idle": "2021-09-19T20:11:38.984394Z",
          "shell.execute_reply": "2021-09-19T20:11:38.984946Z",
          "shell.execute_reply.started": "2021-09-19T20:08:08.445688Z"
        },
        "papermill": {
          "duration": 0.103654,
          "end_time": "2021-09-19T20:11:38.985119",
          "exception": false,
          "start_time": "2021-09-19T20:11:38.881465",
          "status": "completed"
        },
        "tags": [],
        "colab": {
          "base_uri": "https://localhost:8080/",
          "height": 203
        },
        "id": "7b3f630b",
        "outputId": "52ef5c0f-991c-4d25-ac19-b42d7d932c3e"
      },
      "source": [
        "from collections import Counter\n",
        "\n",
        "genre_raw = df['GENRE'].dropna().to_list()\n",
        "genre_list = list()\n",
        "\n",
        "for genres in genre_raw:\n",
        "    genres = genres.split(\", \")\n",
        "    for g in genres:\n",
        "        genre_list.append(g)\n",
        "        \n",
        "genre_df = pd.DataFrame.from_dict(Counter(genre_list), orient = 'index').rename(columns = {0:'Count'})\n",
        "genre_df.head(5)"
      ],
      "id": "7b3f630b",
      "execution_count": 17,
      "outputs": [
        {
          "output_type": "execute_result",
          "data": {
            "text/html": [
              "<div>\n",
              "<style scoped>\n",
              "    .dataframe tbody tr th:only-of-type {\n",
              "        vertical-align: middle;\n",
              "    }\n",
              "\n",
              "    .dataframe tbody tr th {\n",
              "        vertical-align: top;\n",
              "    }\n",
              "\n",
              "    .dataframe thead th {\n",
              "        text-align: right;\n",
              "    }\n",
              "</style>\n",
              "<table border=\"1\" class=\"dataframe\">\n",
              "  <thead>\n",
              "    <tr style=\"text-align: right;\">\n",
              "      <th></th>\n",
              "      <th>Count</th>\n",
              "    </tr>\n",
              "  </thead>\n",
              "  <tbody>\n",
              "    <tr>\n",
              "      <th>Action</th>\n",
              "      <td>1109</td>\n",
              "    </tr>\n",
              "    <tr>\n",
              "      <th>Horror</th>\n",
              "      <td>391</td>\n",
              "    </tr>\n",
              "    <tr>\n",
              "      <th>Thriller</th>\n",
              "      <td>615</td>\n",
              "    </tr>\n",
              "    <tr>\n",
              "      <th>Animation</th>\n",
              "      <td>855</td>\n",
              "    </tr>\n",
              "    <tr>\n",
              "      <th>Adventure</th>\n",
              "      <td>804</td>\n",
              "    </tr>\n",
              "  </tbody>\n",
              "</table>\n",
              "</div>"
            ],
            "text/plain": [
              "           Count\n",
              "Action      1109\n",
              "Horror       391\n",
              "Thriller     615\n",
              "Animation    855\n",
              "Adventure    804"
            ]
          },
          "metadata": {},
          "execution_count": 17
        }
      ]
    },
    {
      "cell_type": "code",
      "metadata": {
        "execution": {
          "iopub.execute_input": "2021-09-19T20:11:39.148003Z",
          "iopub.status.busy": "2021-09-19T20:11:39.147230Z",
          "iopub.status.idle": "2021-09-19T20:11:39.238563Z",
          "shell.execute_reply": "2021-09-19T20:11:39.239047Z",
          "shell.execute_reply.started": "2021-09-19T20:08:08.470291Z"
        },
        "papermill": {
          "duration": 0.174318,
          "end_time": "2021-09-19T20:11:39.239222",
          "exception": false,
          "start_time": "2021-09-19T20:11:39.064904",
          "status": "completed"
        },
        "tags": [],
        "colab": {
          "base_uri": "https://localhost:8080/",
          "height": 856
        },
        "id": "4da6fa4e",
        "outputId": "756dbe83-21a4-43dd-8594-a4eb384085f8"
      },
      "source": [
        "px.figure(figsize=(20,15))\n",
        "\n",
        "px.pie(genre_df['Count'],labels=genre_df.index,autopct='%.3f%%')\n",
        "px.title('Genre Distribution')\n",
        "px.axis('equal')\n",
        "px.show()"
      ],
      "id": "4da6fa4e",
      "execution_count": 80,
      "outputs": [
        {
          "output_type": "display_data",
          "data": {
            "image/png": "[encoded data removed]",
            "text/plain": [
              "<Figure size 1440x1080 with 1 Axes>"
            ]
          },
          "metadata": {}
        }
      ]
    },
    {
      "cell_type": "code",
      "metadata": {
        "execution": {
          "iopub.execute_input": "2021-09-19T20:11:39.414634Z",
          "iopub.status.busy": "2021-09-19T20:11:39.413881Z",
          "iopub.status.idle": "2021-09-19T20:11:39.428109Z",
          "shell.execute_reply": "2021-09-19T20:11:39.427382Z",
          "shell.execute_reply.started": "2021-09-19T20:08:08.547204Z"
        },
        "papermill": {
          "duration": 0.103554,
          "end_time": "2021-09-19T20:11:39.428438",
          "exception": false,
          "start_time": "2021-09-19T20:11:39.324884",
          "status": "completed"
        },
        "tags": [],
        "colab": {
          "base_uri": "https://localhost:8080/"
        },
        "id": "fe2e86f4",
        "outputId": "51e41f37-4ec5-4683-f6fc-75c3a6a04d77"
      },
      "source": [
        "gross_df = df[~df['Gross'].isna()]\n",
        "def extract_gross(gross):\n",
        "    return float(gross.replace(\"$\",\"\").replace(\"M\",\"\"))\n",
        "\n",
        "gross_df['Gross'] = gross_df['Gross'].apply(lambda g: extract_gross(g))\n",
        "\n",
        "gross_df['Gross'].head(5)"
      ],
      "id": "fe2e86f4",
      "execution_count": 19,
      "outputs": [
        {
          "output_type": "stream",
          "name": "stderr",
          "text": [
            "/usr/local/lib/python3.7/dist-packages/ipykernel_launcher.py:5: SettingWithCopyWarning:\n",
            "\n",
            "\n",
            "A value is trying to be set on a copy of a slice from a DataFrame.\n",
            "Try using .loc[row_indexer,col_indexer] = value instead\n",
            "\n",
            "See the caveats in the documentation: https://pandas.pydata.org/pandas-docs/stable/user_guide/indexing.html#returning-a-view-versus-a-copy\n",
            "\n"
          ]
        },
        {
          "output_type": "execute_result",
          "data": {
            "text/plain": [
              "77      75.47\n",
              "85     402.45\n",
              "95      89.22\n",
              "111    315.54\n",
              "125     57.01\n",
              "Name: Gross, dtype: float64"
            ]
          },
          "metadata": {},
          "execution_count": 19
        }
      ]
    },
    {
      "cell_type": "code",
      "metadata": {
        "execution": {
          "iopub.execute_input": "2021-09-19T20:11:39.864047Z",
          "iopub.status.busy": "2021-09-19T20:11:39.858796Z",
          "iopub.status.idle": "2021-09-19T20:11:39.907155Z",
          "shell.execute_reply": "2021-09-19T20:11:39.906391Z",
          "shell.execute_reply.started": "2021-09-19T20:08:08.564689Z"
        },
        "papermill": {
          "duration": 0.392785,
          "end_time": "2021-09-19T20:11:39.907315",
          "exception": false,
          "start_time": "2021-09-19T20:11:39.514530",
          "status": "completed"
        },
        "tags": [],
        "colab": {
          "base_uri": "https://localhost:8080/",
          "height": 906
        },
        "id": "77c72d0f",
        "outputId": "0476e37f-701b-4170-d8a1-18aa85379c0b"
      },
      "source": [
        "gross_df.sort_values(by='Gross', ascending = False).head(20).plot(kind = 'bar',\n",
        "             x = 'MOVIES', y = 'Gross', title = 'Top 10 Gross Movie and series', figsize=(15, 10), legend=True, fontsize=12)\n",
        "px.ylabel('Million US Dollar')\n",
        "px.xlabel('Movies and Series')\n",
        "\n",
        "px.show()"
      ],
      "id": "77c72d0f",
      "execution_count": 84,
      "outputs": [
        {
          "output_type": "display_data",
          "data": {
            "image/png": "[encoded data removed]",
            "text/plain": [
              "<Figure size 1080x720 with 1 Axes>"
            ]
          },
          "metadata": {
            "needs_background": "light"
          }
        }
      ]
    },
    {
      "cell_type": "markdown",
      "metadata": {
        "papermill": {
          "duration": 0.104364,
          "end_time": "2021-09-19T20:11:40.113425",
          "exception": false,
          "start_time": "2021-09-19T20:11:40.009061",
          "status": "completed"
        },
        "tags": [],
        "id": "e236f8f7"
      },
      "source": [
        "# RECOMMANDATION MODEL USING COSINE_SIMILARITY"
      ],
      "id": "e236f8f7"
    },
    {
      "cell_type": "code",
      "metadata": {
        "execution": {
          "iopub.execute_input": "2021-09-19T20:11:40.378646Z",
          "iopub.status.busy": "2021-09-19T20:11:40.377730Z",
          "iopub.status.idle": "2021-09-19T20:11:43.129379Z",
          "shell.execute_reply": "2021-09-19T20:11:43.128792Z",
          "shell.execute_reply.started": "2021-09-19T20:08:08.934945Z"
        },
        "papermill": {
          "duration": 2.913469,
          "end_time": "2021-09-19T20:11:43.129529",
          "exception": false,
          "start_time": "2021-09-19T20:11:40.216060",
          "status": "completed"
        },
        "tags": [],
        "id": "c7e1e72b"
      },
      "source": [
        "from sklearn.feature_extraction.text import CountVectorizer\n",
        "from sklearn.metrics.pairwise import cosine_similarity\n",
        "\n",
        "features = ['GENRE','ONE-LINE','Director', 'Stars']\n",
        "\n",
        "for feature in features:\n",
        "    df[feature] = df[feature].fillna(\"\")\n",
        "\n",
        "df['combined_features'] = df['GENRE'] + \" \" + df['ONE-LINE']+ \" \" + df['Director']+ \" \" + df['Stars']\n",
        "\n",
        "cv = CountVectorizer()\n",
        "\n",
        "count_matrix = cv.fit_transform(df['combined_features'])\n",
        "\n",
        "cosine_sim = cosine_similarity(count_matrix)"
      ],
      "id": "c7e1e72b",
      "execution_count": 85,
      "outputs": []
    },
    {
      "cell_type": "code",
      "metadata": {
        "execution": {
          "iopub.execute_input": "2021-09-19T20:11:43.346464Z",
          "iopub.status.busy": "2021-09-19T20:11:43.345781Z",
          "iopub.status.idle": "2021-09-19T20:11:43.348340Z",
          "shell.execute_reply": "2021-09-19T20:11:43.347719Z",
          "shell.execute_reply.started": "2021-09-19T20:08:10.939501Z"
        },
        "papermill": {
          "duration": 0.115935,
          "end_time": "2021-09-19T20:11:43.348491",
          "exception": false,
          "start_time": "2021-09-19T20:11:43.232556",
          "status": "completed"
        },
        "tags": [],
        "id": "6e5a5b34"
      },
      "source": [
        "def movie_recommendation(mov,sim_num = 5):\n",
        "\n",
        "    user_choice = mov\n",
        "    \n",
        "    try:\n",
        "        ref_index = df[df['MOVIES'].str.contains(user_choice, case = False)].index[0]\n",
        "\n",
        "        similar_movies = list(enumerate(cosine_sim[ref_index]))\n",
        "\n",
        "        sorted_simmilar_movies = sorted(similar_movies, key = lambda x: x[1], reverse = True)[1:]\n",
        "\n",
        "        print('\\nRecomended Movies/Series for [{}]'.format(user_choice))\n",
        "        print('-'*(24 + len(user_choice)))\n",
        "\n",
        "        for i, element in enumerate(sorted_simmilar_movies):\n",
        "            similar_movie_id = element[0]\n",
        "            similar_movie_title = df['MOVIES'].iloc[similar_movie_id]\n",
        "            s_score = element[1]\n",
        "            print('{:40} -> {:.3f}'.format(similar_movie_title, s_score))\n",
        "            \n",
        "            if i > sim_num:\n",
        "                break\n",
        "    except IndexError:\n",
        "        print(\"\\n[{}] is not in our database!\".format(user_choice))\n",
        "        print(\"We couldn't recommend anyting...Sorry...\")"
      ],
      "id": "6e5a5b34",
      "execution_count": 86,
      "outputs": []
    },
    {
      "cell_type": "code",
      "metadata": {
        "execution": {
          "iopub.execute_input": "2021-09-19T20:11:43.575361Z",
          "iopub.status.busy": "2021-09-19T20:11:43.556809Z",
          "iopub.status.idle": "2021-09-19T20:11:43.581846Z",
          "shell.execute_reply": "2021-09-19T20:11:43.582537Z",
          "shell.execute_reply.started": "2021-09-19T20:08:10.952443Z"
        },
        "papermill": {
          "duration": 0.131689,
          "end_time": "2021-09-19T20:11:43.582780",
          "exception": false,
          "start_time": "2021-09-19T20:11:43.451091",
          "status": "completed"
        },
        "tags": [],
        "colab": {
          "base_uri": "https://localhost:8080/"
        },
        "id": "9ce9b008",
        "outputId": "4f1a1eb4-d7e7-474e-84dd-8076c71f4b84"
      },
      "source": [
        "movie_recommendation(\"The Fate of the Furious\")"
      ],
      "id": "9ce9b008",
      "execution_count": 92,
      "outputs": [
        {
          "output_type": "stream",
          "name": "stdout",
          "text": [
            "\n",
            "Recomended Movies/Series for [The Fate of the Furious]\n",
            "-----------------------------------------------\n",
            "Arcane                                   -> 0.392\n",
            "He-Man and the Masters of the Universe   -> 0.385\n",
            "Oni                                      -> 0.381\n",
            "Star Trek                                -> 0.371\n",
            "Bright: Samurai Soul                     -> 0.369\n",
            "Spartacus: Blood and Sand                -> 0.369\n",
            "Nanatsu no taizai                        -> 0.364\n"
          ]
        }
      ]
    }
  ]
}